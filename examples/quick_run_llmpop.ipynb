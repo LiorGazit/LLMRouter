{
  "cells": [
    {
      "cell_type": "markdown",
      "metadata": {
        "id": "x0MJe6AusVtI"
      },
      "source": [
        "## Quick Run for llmpop  \n",
        "Instructions: Click \"Run all\" (if on mobile browser, look it up on the menu).  \n",
        "<a target=\"_blank\" href=\"https://colab.research.google.com/github/LiorGazit/llmpop/blob/main/examples/quick_run_llmpop.ipynb\">\n",
        "  <img src=\"https://colab.research.google.com/assets/colab-badge.svg\" alt=\"Open In Colab\"/>\n",
        "</a>  "
      ]
    },
    {
      "cell_type": "code",
      "execution_count": 1,
      "metadata": {
        "colab": {
          "base_uri": "https://localhost:8080/"
        },
        "id": "ly9Gc5rZEshd",
        "outputId": "5896f3b9-a684-49eb-c72a-183e33810b94"
      },
      "outputs": [
        {
          "output_type": "stream",
          "name": "stdout",
          "text": [
            "🚀 Installing Ollama...\n",
            "🚀 Starting Ollama server...\n",
            "→ Ollama PID: 698\n",
            "⏳ Waiting for Ollama to be ready…\n",
            "Ready!\n",
            "\n",
            "🚀 Pulling model 'llama3.2:1b'…\n",
            "All done setting up Ollama (ChatOllama).\n",
            "\n"
          ]
        }
      ],
      "source": [
        "%pip -q install llmpop\n",
        "\n",
        "from llmpop import init_llm, start_resource_monitoring\n",
        "from langchain_core.prompts import ChatPromptTemplate\n",
        "\n",
        "# Start with Meta's Llama. If you want a stronger (and bigger) model, try OpenAI's free \"gpt-oss:20b\" (also from \"ollama\"):\n",
        "model = init_llm(model=\"llama3.2:1b\", provider=\"ollama\")\n",
        "prompt = ChatPromptTemplate.from_template(\"Q: {q}\\nA:\")\n",
        "user_prompt = \"What OS is better for deploying high scale programs in production? Linux, or Windows?\"\n",
        "print((prompt | model).invoke({\"q\":user_prompt}).content)"
      ]
    },
    {
      "cell_type": "markdown",
      "metadata": {
        "id": "DEa11fGfk3fg"
      },
      "source": [
        "**Type your prompt below:**"
      ]
    },
    {
      "cell_type": "code",
      "execution_count": 2,
      "metadata": {
        "colab": {
          "base_uri": "https://localhost:8080/"
        },
        "id": "xAwbukmIkYqQ",
        "outputId": "8dc55e23-aeb0-48ac-eca0-2b5f41be3c8c"
      },
      "outputs": [
        {
          "output_type": "stream",
          "name": "stdout",
          "text": [
            "When it comes to deploying high-scale programs in production, the choice between Linux and Windows largely depends on your specific needs, infrastructure, and preferences. However, I'll provide an overview of each option to help you make an informed decision.\n",
            "\n",
            "**Linux:**\n",
            "\n",
            "Pros:\n",
            "\n",
            "1. **Open-source**: Linux is open-source, which means it's free to use, modify, and distribute.\n",
            "2. **Highly scalable**: Linux can scale horizontally (add more servers) or vertically (increase server power), making it ideal for large-scale applications.\n",
            "3. **Low latency**: Linux is generally faster than Windows due to its lightweight kernel and optimized libraries.\n",
            "4. **Security**: Linux has a strong reputation for security, with many security patches and updates available.\n",
            "\n",
            "Cons:\n",
            "\n",
            "1. **Steeper learning curve**: Linux requires more technical expertise to set up and configure, especially for beginners.\n",
            "2. **Dependence on networking**: Linux relies heavily on the network stack, which can be prone to issues if your infrastructure is not properly configured.\n",
            "\n",
            "**Windows:**\n",
            "\n",
            "Pros:\n",
            "\n",
            "1. **Easier to use**: Windows has a more user-friendly interface, making it easier for non-technical users to set up and deploy applications.\n",
            "2. **Wider availability of support**: Microsoft offers extensive support, including online resources, forums, and paid support options.\n",
            "3. **Better integration with Office 365**: If you're already using Microsoft products, Windows might be a better choice due to its integration with Office 365.\n",
            "\n",
            "Cons:\n",
            "\n",
            "1. **Proprietary**: Windows is a proprietary operating system, which can limit its customization and flexibility.\n",
            "2. **High cost**: While the initial investment in a Windows server might be lower than building your own Linux-based infrastructure, ongoing costs (e.g., licenses) can add up.\n",
            "3. **Security concerns**: Windows has faced security issues in the past, although Microsoft continues to improve its security features.\n",
            "\n",
            "**In conclusion:**\n",
            "\n",
            "For high-scale programs in production, Linux is generally a better choice due to its scalability, low latency, and security features. However, if you're already invested in the Microsoft ecosystem or prefer a more user-friendly interface, Windows might be a viable option.\n",
            "\n",
            "To get started with either platform, consider the following:\n",
            "\n",
            "1. **Research your infrastructure**: Evaluate your existing infrastructure and requirements before making a decision.\n",
            "2. **Choose the right virtualization platform**: If you have VMware, VirtualBox, or KVM, they can provide a robust environment for running Linux or Windows virtual machines.\n",
            "3. **Consider cloud providers**: Cloud services like Amazon Web Services (AWS), Microsoft Azure, and Google Cloud Platform (GCP) offer managed environments that simplify deployment and management of high-scale applications.\n",
            "\n",
            "Ultimately, the choice between Linux and Windows depends on your specific needs, expertise, and priorities.\n"
          ]
        }
      ],
      "source": [
        "user_prompt = \"What OS is better for deploying high scale programs in production? Linux, or Windows?\"\n",
        "print((prompt | model).invoke({\"q\":user_prompt}).content)"
      ]
    }
  ],
  "metadata": {
    "accelerator": "GPU",
    "colab": {
      "gpuType": "T4",
      "provenance": []
    },
    "kernelspec": {
      "display_name": "Python 3",
      "name": "python3"
    },
    "language_info": {
      "codemirror_mode": {
        "name": "ipython",
        "version": 3
      },
      "file_extension": ".py",
      "mimetype": "text/x-python",
      "name": "python",
      "nbconvert_exporter": "python",
      "pygments_lexer": "ipython3",
      "version": "3.11.4"
    }
  },
  "nbformat": 4,
  "nbformat_minor": 0
}