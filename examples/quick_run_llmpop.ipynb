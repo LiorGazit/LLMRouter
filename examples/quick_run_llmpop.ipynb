{
  "cells": [
    {
      "cell_type": "markdown",
      "metadata": {
        "id": "x0MJe6AusVtI"
      },
      "source": [
        "## Quick Run for llmpop  \n",
        "Instructions: Click \"Run all\".  \n",
        "<a target=\"_blank\" href=\"https://colab.research.google.com/github/LiorGazit/llmpop/blob/main/examples/quick_run_llmpop.ipynb\">\n",
        "  <img src=\"https://colab.research.google.com/assets/colab-badge.svg\" alt=\"Open In Colab\"/>\n",
        "</a>  "
      ]
    },
    {
      "cell_type": "code",
      "execution_count": 1,
      "metadata": {
        "colab": {
          "base_uri": "https://localhost:8080/"
        },
        "id": "ly9Gc5rZEshd",
        "outputId": "ea1a4270-abe3-47a7-d417-f9afbbb9c935"
      },
      "outputs": [
        {
          "output_type": "stream",
          "name": "stdout",
          "text": [
            "  Installing build dependencies ... \u001b[?25l\u001b[?25hdone\n",
            "  Getting requirements to build wheel ... \u001b[?25l\u001b[?25hdone\n",
            "  Preparing metadata (pyproject.toml) ... \u001b[?25l\u001b[?25hdone\n",
            "  Building wheel for llmpop (pyproject.toml) ... \u001b[?25l\u001b[?25hdone\n",
            "🚀 Installing Ollama...\n",
            "🚀 Starting Ollama server...\n",
            "→ Ollama PID: 1665\n",
            "⏳ Waiting for Ollama to be ready…\n",
            "Ready!\n",
            "\n",
            "🚀 Pulling model 'gpt-oss:20b'…\n",
            "All done setting up Ollama (ChatOllama).\n",
            "\n"
          ]
        }
      ],
      "source": [
        "%pip -q install git+https://github.com/LiorGazit/llmpop.git\n",
        "\n",
        "from llmpop import init_llm, start_resource_monitoring\n",
        "from langchain_core.prompts import ChatPromptTemplate\n",
        "\n",
        "# Spinning up OpenAI's free GPT-OSS-20B, give it a few minutes, it's worth it.\n",
        "# If you want a quick LLM, set model=\"llama3.2:1b\".\n",
        "model = init_llm(model=\"gpt-oss:20b\", provider=\"ollama\")\n",
        "prompt = ChatPromptTemplate.from_template(\"Q: {q}\\nA:\")"
      ]
    },
    {
      "cell_type": "markdown",
      "source": [
        "**Type your prompt below:**"
      ],
      "metadata": {
        "id": "DEa11fGfk3fg"
      }
    },
    {
      "cell_type": "code",
      "source": [
        "user_prompt = \"What OS is better for deploying high scale programs in production? Linux, or Windows?\"\n",
        "print((prompt | model).invoke({\"q\":user_prompt}).content)"
      ],
      "metadata": {
        "colab": {
          "base_uri": "https://localhost:8080/"
        },
        "id": "xAwbukmIkYqQ",
        "outputId": "5a226893-a9db-4ab3-d6e7-e8f1d8df614e"
      },
      "execution_count": 4,
      "outputs": [
        {
          "output_type": "stream",
          "name": "stdout",
          "text": [
            "**Short answer**\n",
            "\n",
            "For most “high‑scale” production workloads (web services, micro‑services, big‑data pipelines, container orchestration, etc.) **Linux wins**.  \n",
            "Windows can be a good choice when you’re tightly coupled to the Microsoft stack (e.g., a large .NET/SQL Server enterprise that requires a single‑vendor ecosystem, or when you need Windows‑specific features that no Linux alternative offers).  \n",
            "\n",
            "Below is a deeper dive that will help you decide in your particular context.\n",
            "\n",
            "---\n",
            "\n",
            "## 1. Why Linux is the de‑facto standard for large‑scale production\n",
            "\n",
            "| Dimension | Linux | Windows |\n",
            "|-----------|-------|---------|\n",
            "| **Open source / cost** | Free (most distros) – only support contracts and optional paid services. | Licensing costs per core / license. |\n",
            "| **Performance & efficiency** | Mature, lightweight kernel, fine‑grained tuning. Lower CPU & memory overhead. | Higher kernel overhead, especially in older versions. |\n",
            "| **Scalability** | Proven at massive scale: Twitter, Facebook, Google, Netflix, etc. | Limited mainstream adoption at terascale; not a major concern in most enterprises. |\n",
            "| **Ecosystem & tooling** | 90 %+ of containers, CI/CD, cloud‑native tooling (K8s, Docker, Helm, Terraform, Ansible, etc.) are Linux‑first. | Tools exist but often require Windows containers or Hyper‑V. |\n",
            "| **Security** | Robust default hardening, SELinux/AppArmor, extensive patching via distro repos. | Windows has improved, but historically a larger attack surface; patching cycles are longer. |\n",
            "| **Community & vendor support** | Huge, diverse community; almost every vendor supports Linux. | Strong support from Microsoft, but many third‑party vendors focus on Linux. |\n",
            "| **Dev‑Ops & IaC** | Native integration with GitOps, Terraform, Pulumi, CloudFormation (AWS), etc. | Works but often requires Windows‑specific modules or extra layers. |\n",
            "| **Containerization** | Docker, Podman, runc, CRI‑O – all native. | Windows containers exist but are more limited and require Hyper‑V. |\n",
            "| **Bare‑metal performance** | No hyper‑visor overhead in most cases. | Hyper‑V or nested virtualization adds overhead. |\n",
            "| **High‑availability patterns** | Native support for HA configs (e.g., Corosync/Pacemaker, etc.). | Windows clustering is robust but more complex to set up. |\n",
            "| **Networking** | Highly tunable network stack, support for SR‑IOV, XDP, etc. | Limited by the Windows networking stack. |\n",
            "| **Compliance & Auditing** | Many security standards (PCI‑DSS, ISO 27001, etc.) support Linux audit tools. | Windows is also compliant, but requires more effort to configure. |\n",
            "\n",
            "### Use cases where Linux shines\n",
            "\n",
            "| Use‑case | Why Linux is better |\n",
            "|----------|---------------------|\n",
            "| **Web & API services** | Node.js, Python, Go, Rust, Java – all run faster with less overhead. |\n",
            "| **Micro‑services / Container orchestrators** | Kubernetes, Docker Swarm, Nomad – all natively designed for Linux. |\n",
            "| **Big data / batch jobs** | Hadoop, Spark, Flink, Kafka – originally Linux‑only, performance‑tuned. |\n",
            "| **Serverless / edge compute** | Lambda‑like runtimes run on Linux containers. |\n",
            "| **Cloud‑native workloads** | Cloud providers (AWS, GCP, Azure) default to Linux AMIs; cheaper instance pricing. |\n",
            "\n",
            "---\n",
            "\n",
            "## 2. When Windows might be preferable\n",
            "\n",
            "| Scenario | Why Windows? |\n",
            "|----------|--------------|\n",
            "| **Full .NET (especially .NET Framework) stack** | Some legacy .NET apps rely on Windows APIs, COM, or .NET Framework. |\n",
            "| **SQL Server heavy workloads** | Native integration, always‑on availability groups, advanced security features. |\n",
            "| **Active Directory / Microsoft ecosystem** | Integration with Azure AD, Office 365, Exchange, SharePoint. |\n",
            "| **Legacy applications** | Some in‑house or vendor‑specific tools that are Windows‑only. |\n",
            "| **Certain HPC / GPU workloads** | Windows Subsystem for Linux (WSL) is an option but still not as mature for HPC. |\n",
            "| **Windows‑only containers** | Some CI/CD pipelines or legacy containers may be built for Windows. |\n",
            "\n",
            "**Cost consideration:** In many cases, the licensing cost of Windows Server can be justified if you’re already invested in the Microsoft stack, but for pure‑scale services the economics heavily favor Linux.\n",
            "\n",
            "---\n",
            "\n",
            "## 3. Hybrid Strategies\n",
            "\n",
            "* **Linux for the heavy lifting, Windows for the glue** – many enterprises run a Linux‑centric micro‑service architecture while keeping legacy Windows services or integration points in a separate domain or within the same Kubernetes cluster using Windows nodes.\n",
            "* **Containers for portability** – Docker containers can be built on Linux and run on Windows (or vice‑versa) using the Docker‑for‑Windows backend; this gives you the best of both worlds while keeping the underlying host OS scalable.\n",
            "\n",
            "---\n",
            "\n",
            "## 4. Practical Checklist for Decision Making\n",
            "\n",
            "| Item | Question | Decision Guidance |\n",
            "|------|----------|-------------------|\n",
            "| **Application stack** | Is the core workload written in languages/frameworks that run faster or only on Linux? | Linux preferred. |\n",
            "| **Licensing budget** | Can you afford Windows Server per‑core licensing, or do you need the free distro? | Linux often cheaper. |\n",
            "| **Security posture** | Does your threat model rely on Linux hardening or Windows‑specific security controls? | Align with existing expertise. |\n",
            "| **Operational expertise** | Does your ops team have more Linux or Windows experience? | Stick with familiar OS. |\n",
            "| **Vendor constraints** | Must you use Microsoft products (SQL Server, Active Directory, etc.)? | Windows may be required. |\n",
            "| **Cloud provider pricing** | Are Linux AMIs cheaper on your cloud provider? | Usually yes. |\n",
            "| **Compliance** | Are your compliance requirements tied to a particular OS? | Verify with auditors. |\n",
            "| **Scalability goals** | Do you need to spin up thousands of instances rapidly? | Linux scales more naturally. |\n",
            "| **Future evolution** | Will you migrate to containers or Kubernetes? | Linux first; Windows support is still catching up. |\n",
            "\n",
            "---\n",
            "\n",
            "## 5. Bottom‑Line Recommendation\n",
            "\n",
            "- **For most high‑scale, cloud‑native, container‑oriented workloads** → **Linux** (Debian/Ubuntu, CentOS/RHEL, SUSE, or any distro you prefer).  \n",
            "- **If you’re tied to heavy .NET Framework, legacy Windows services, or a Microsoft‑centric infrastructure** → **Windows**, but consider isolating those services from the rest of the scale‑out architecture to keep the core infrastructure Linux‑based.  \n",
            "\n",
            "In practice, the majority of enterprises that need to **deploy millions of requests per second, handle petabyte‑scale data, or run thousands of micro‑services** end up building the core of their stack on Linux. Windows remains a strong choice for specific domains, but it is typically the “tether” rather than the foundation for truly large‑scale production environments.\n"
          ]
        }
      ]
    }
  ],
  "metadata": {
    "accelerator": "GPU",
    "colab": {
      "gpuType": "T4",
      "provenance": []
    },
    "kernelspec": {
      "display_name": "Python 3",
      "name": "python3"
    },
    "language_info": {
      "codemirror_mode": {
        "name": "ipython",
        "version": 3
      },
      "file_extension": ".py",
      "mimetype": "text/x-python",
      "name": "python",
      "nbconvert_exporter": "python",
      "pygments_lexer": "ipython3",
      "version": "3.11.4"
    }
  },
  "nbformat": 4,
  "nbformat_minor": 0
}