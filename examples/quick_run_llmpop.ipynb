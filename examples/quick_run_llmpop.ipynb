{
  "cells": [
    {
      "cell_type": "markdown",
      "metadata": {
        "id": "x0MJe6AusVtI"
      },
      "source": [
        "## Quick Run for llmpop  \n",
        "Instructions: Click \"Run all\" (if on mobile browser, look it up on the menu).  \n",
        "<a target=\"_blank\" href=\"https://colab.research.google.com/github/LiorGazit/llmpop/blob/main/examples/quick_run_llmpop.ipynb\">\n",
        "  <img src=\"https://colab.research.google.com/assets/colab-badge.svg\" alt=\"Open In Colab\"/>\n",
        "</a>  "
      ]
    },
    {
      "cell_type": "code",
      "execution_count": null,
      "metadata": {
        "colab": {
          "base_uri": "https://localhost:8080/"
        },
        "id": "ly9Gc5rZEshd",
        "outputId": "afb69aa2-c333-4cd1-895d-cccc7f2e9d57"
      },
      "outputs": [
        {
          "name": "stdout",
          "output_type": "stream",
          "text": [
            "🚀 Installing Ollama...\n",
            "🚀 Starting Ollama server...\n",
            "→ Ollama PID: 1296\n",
            "⏳ Waiting for Ollama to be ready…\n",
            "Ready!\n",
            "\n",
            "🚀 Pulling model 'llama3.2:1b'…\n",
            "All done setting up Ollama (ChatOllama).\n",
            "\n"
          ]
        }
      ],
      "source": [
        "%pip -q install llmpop\n",
        "\n",
        "from llmpop import init_llm\n",
        "\n",
        "# Start with Meta's Llama. If you want a stronger (and bigger) model, try OpenAI's free \"gpt-oss:20b\" (also from \"ollama\"):\n",
        "model = init_llm(model=\"llama3.2:1b\", provider=\"ollama\")"
      ]
    },
    {
      "cell_type": "markdown",
      "metadata": {
        "id": "DEa11fGfk3fg"
      },
      "source": [
        "**Type your prompt below:**"
      ]
    },
    {
      "cell_type": "code",
      "execution_count": 2,
      "metadata": {
        "colab": {
          "base_uri": "https://localhost:8080/"
        },
        "id": "xAwbukmIkYqQ",
        "outputId": "f9342b6f-80fd-48e5-b24c-89d5d24a461a"
      },
      "outputs": [
        {
          "name": "stdout",
          "output_type": "stream",
          "text": [
            "Both Linux and Windows can be suitable options for deploying high-scale programs in production, but the choice ultimately depends on several factors. Here's a balanced analysis to help you decide:\n",
            "\n",
            "**Linux:**\n",
            "\n",
            "Pros:\n",
            "\n",
            "1. **High availability**: Linux is designed to ensure high uptime and availability, with built-in support for clustering, load balancing, and failover.\n",
            "2. **Scalability**: Linux can scale horizontally (add more nodes) and vertically (increase resources), making it an excellent choice for large-scale applications.\n",
            "3. **Security**: Linux has a strong focus on security, with features like SELinux, AppArmor, and IPTables, which provide fine-grained access control and network segregation.\n",
            "4. **Community support**: Linux has an enormous community of developers, maintainers, and users who contribute to its ecosystem through open-source software, documentation, and forums.\n",
            "5. **Cost-effective**: Linux is often free or low-cost, with many options for distribution (e.g., Ubuntu, CentOS) that offer a range of services, including cloud hosting.\n",
            "\n",
            "Cons:\n",
            "\n",
            "1. **Initial setup**: Linux requires some technical expertise to set up and configure, especially when it comes to networking and security.\n",
            "2. **Complexity**: Linux can be more complex than Windows in terms of management and monitoring, particularly for large-scale deployments.\n",
            "\n",
            "**Windows:**\n",
            "\n",
            "Pros:\n",
            "\n",
            "1. **Easier deployment**: Windows is often easier to deploy and manage, with a gentle learning curve for administrators and developers who are new to Linux or cloud infrastructure.\n",
            "2. **Integration with Azure**: Windows 10 and Server 2019 run on Azure, providing seamless integration with the cloud platform's services and tools (e.g., Azure Storage, Kubernetes).\n",
            "3. **PowerShell**: PowerShell is a powerful scripting language that allows for automation and configuration management in Windows environments.\n",
            "4. **High-performance computing**: Windows can leverage its high-performance computing capabilities to handle demanding workloads.\n",
            "\n",
            "Cons:\n",
            "\n",
            "1. **Steeper learning curve**: Windows requires some technical expertise to set up and configure, particularly when it comes to networking, security, and cloud integration.\n",
            "2. **Cost**: While Windows is generally affordable, the cost of licensing a copy of Windows can add up over time, especially for large-scale deployments.\n",
            "\n",
            "**In conclusion:**\n",
            "\n",
            "Linux is an excellent choice for high-scale programs in production if:\n",
            "\n",
            "* You're willing to invest time and effort into setting up and configuring Linux infrastructure.\n",
            "* Your application requires a high degree of scalability and availability.\n",
            "* You prefer a more flexible and customizable operating system.\n",
            "* You have experience with cloud infrastructure, such as Azure.\n",
            "\n",
            "Windows is an excellent choice for high-scale programs in production if:\n",
            "\n",
            "* You're new to Linux or cloud infrastructure and want an easier deployment process.\n",
            "* You need seamless integration with the Azure platform.\n",
            "* You require high-performance computing capabilities.\n",
            "* You prefer a more established and mature operating system ecosystem.\n",
            "\n",
            "Ultimately, both Linux and Windows can be suitable options for deploying high-scale programs in production. It's essential to weigh your specific needs, skills, and requirements before making a decision.\n"
          ]
        }
      ],
      "source": [
        "user_prompt = \"What OS is better for deploying high scale programs in production? Linux, or Windows?\"\n",
        "print(model.invoke(user_prompt).content)"
      ]
    }
  ],
  "metadata": {
    "accelerator": "GPU",
    "colab": {
      "gpuType": "T4",
      "provenance": []
    },
    "kernelspec": {
      "display_name": "Python 3",
      "name": "python3"
    },
    "language_info": {
      "codemirror_mode": {
        "name": "ipython",
        "version": 3
      },
      "file_extension": ".py",
      "mimetype": "text/x-python",
      "name": "python",
      "nbconvert_exporter": "python",
      "pygments_lexer": "ipython3",
      "version": "3.11.4"
    }
  },
  "nbformat": 4,
  "nbformat_minor": 0
}
