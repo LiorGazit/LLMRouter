{
  "cells": [
    {
      "cell_type": "markdown",
      "metadata": {
        "id": "x0MJe6AusVtI"
      },
      "source": [
        "## Run Ollama in Colab\n",
        "<a target=\"_blank\" href=\"https://colab.research.google.com/github/LiorGazit/LLMRouter/blob/main/examples/run_ollama_in_colab.ipynb\">\n",
        "  <img src=\"https://colab.research.google.com/assets/colab-badge.svg\" alt=\"Open In Colab\"/>\n",
        "</a> (pick a GPU Colab session for fastest computing)  \n",
        "\n",
        "[List of available Ollama LLMs.](https://ollama.com/library)  \n",
        "Note: For Ollama local models, this code will run in Colab but not in Windows. The reason is in the Ollama setup. I do believe it would run on Linux in general, but haven't experimented outside of Google Colab.  \n",
        "\n",
        "```\n",
        "Disclaimer: The content and ideas presented in this notebook are solely those of the author, Lior Gazit, and do not represent the views or intellectual property of the author's employer.\n",
        "```"
      ]
    },
    {
      "cell_type": "code",
      "execution_count": null,
      "metadata": {},
      "outputs": [],
      "source": [
        "%pip -q install git+https://github.com/LiorGazit/LLMRouter.git"
      ]
    },
    {
      "cell_type": "markdown",
      "metadata": {
        "id": "YEap5E85ub9C"
      },
      "source": [
        "Importing necessary functions:  "
      ]
    },
    {
      "cell_type": "code",
      "execution_count": null,
      "metadata": {
        "colab": {
          "base_uri": "https://localhost:8080/"
        },
        "id": "3pFVJNj0ub9D",
        "outputId": "9bb9fa50-0d62-4d10-e43e-62a4fec136d4"
      },
      "outputs": [
        {
          "name": "stdout",
          "output_type": "stream",
          "text": [
            "Downloaded init_llm.py from GitHub\n",
            "Downloaded monitor_resources.py from GitHub\n"
          ]
        }
      ],
      "source": [
        "from llmrouter import init_llm, start_resource_monitoring\n",
        "import os"
      ]
    },
    {
      "cell_type": "markdown",
      "metadata": {
        "id": "RbZdNGrCvx6z"
      },
      "source": [
        "## Run either local LLM for free or remote LLM by OpenAI using your private API key\n",
        "Set the `mode` variable for your choice.  "
      ]
    },
    {
      "cell_type": "code",
      "execution_count": null,
      "metadata": {
        "id": "y_5MY-pNvx62"
      },
      "outputs": [],
      "source": [
        "if 1:\n",
        "  # Ollama (local)\n",
        "  model = init_llm(\n",
        "      model=\"gemma3\",\n",
        "      provider=\"ollama\",\n",
        "      provider_kwargs={\"host\": \"127.0.0.1\", \"port\": 11434, \"pull\": True},\n",
        "      temperature=0.0,\n",
        "  )\n",
        "else:\n",
        "  # OpenAI (remote) – using env var\n",
        "  os.environ[\"OPENAI_API_KEY\"] = \"sk-...\"\n",
        "  model = init_llm(\n",
        "      model=\"gpt-4o\",\n",
        "      provider=\"openai\",\n",
        "      temperature=0.0,\n",
        "  )"
      ]
    },
    {
      "cell_type": "code",
      "execution_count": null,
      "metadata": {
        "colab": {
          "base_uri": "https://localhost:8080/"
        },
        "id": "63OiCsIdvx66",
        "outputId": "9d095b01-e2cc-4246-fa83-91ef179a10ae"
      },
      "outputs": [
        {
          "name": "stdout",
          "output_type": "stream",
          "text": [
            "Starting resource monitoring for 3600s (logging every 10s to 'resource_usage.log')\n",
            "→ Resource monitoring started (daemon thread).\n"
          ]
        }
      ],
      "source": [
        "# Resource monitoring (via monitor_resources.py)\n",
        "monitor_resources = False\n",
        "if monitor_resources:\n",
        "    # logs for 1h, every 10s, into 'resource_usage.log'\n",
        "    monitor_thread = start_resource_monitoring(\n",
        "        duration=3600,\n",
        "        interval=10,\n",
        "        logfile='resource_usage.log'\n",
        "    )\n"
      ]
    },
    {
      "cell_type": "code",
      "execution_count": null,
      "metadata": {
        "colab": {
          "base_uri": "https://localhost:8080/"
        },
        "id": "Rgh08hiGvx67",
        "outputId": "ad50662c-8be0-407c-a9f6-94d06eb3b015"
      },
      "outputs": [
        {
          "name": "stdout",
          "output_type": "stream",
          "text": [
            "Answer: One way to continue the sentence could be 'you is a surprise,' though 'you are a' would be more grammatically correct.\n"
          ]
        }
      ],
      "source": [
        "from langchain_core.prompts import ChatPromptTemplate\n",
        "\n",
        "template = \"\"\"Question: {question}\n",
        "\n",
        "Answer: Provide concise and simple answer!\"\"\"\n",
        "\n",
        "prompt = ChatPromptTemplate.from_template(template)\n",
        "\n",
        "chain = prompt | model\n",
        "\n",
        "print(chain.invoke({\"question\": \"What is a good way to continue this sentence: 'you is a ...'? It has to by syntactically correct!\"}).content)"
      ]
    }
  ],
  "metadata": {
    "accelerator": "GPU",
    "colab": {
      "gpuType": "T4",
      "provenance": []
    },
    "kernelspec": {
      "display_name": "Python 3",
      "name": "python3"
    },
    "language_info": {
      "codemirror_mode": {
        "name": "ipython",
        "version": 3
      },
      "file_extension": ".py",
      "mimetype": "text/x-python",
      "name": "python",
      "nbconvert_exporter": "python",
      "pygments_lexer": "ipython3",
      "version": "3.9.6"
    }
  },
  "nbformat": 4,
  "nbformat_minor": 0
}
